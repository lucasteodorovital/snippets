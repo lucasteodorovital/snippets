{
 "cells": [
  {
   "cell_type": "code",
   "execution_count": 15,
   "id": "1afe2ffa",
   "metadata": {},
   "outputs": [],
   "source": [
    "import numpy as np\n",
    "import matplotlib.pyplot as plt\n",
    "import openturns as ot"
   ]
  },
  {
   "cell_type": "code",
   "execution_count": 134,
   "id": "7ae5be57",
   "metadata": {},
   "outputs": [],
   "source": [
    "coordinates = np.array([[0.0,0.0],[0.0, 0.5], [0.5, 0.5],[0.5,0.0],[1.0,0.0],[0.0,1.0],[0.5,1.],[1.0,1.0]])\n",
    "observations = np.array([[1.0],[-0], [0],[0.5],[0.75],[-1.0],[0.0],[1.0]])"
   ]
  },
  {
   "cell_type": "code",
   "execution_count": 135,
   "id": "4829fb4d",
   "metadata": {},
   "outputs": [],
   "source": [
    "x = coordinates[:,0]\n",
    "y = coordinates[:,1]\n",
    "    "
   ]
  },
  {
   "cell_type": "code",
   "execution_count": 136,
   "id": "445f092e",
   "metadata": {},
   "outputs": [
    {
     "data": {
      "image/png": "[encoded data removed]",
      "text/plain": [
       "<Figure size 432x288 with 2 Axes>"
      ]
     },
     "metadata": {
      "needs_background": "light"
     },
     "output_type": "display_data"
    }
   ],
   "source": [
    "fig = plt.figure()\n",
    "plt.scatter(x, y, c=observations, cmap='viridis')\n",
    "plt.colorbar()\n",
    "plt.show()"
   ]
  },
  {
   "cell_type": "code",
   "execution_count": 137,
   "id": "f2c40ea7",
   "metadata": {},
   "outputs": [
    {
     "data": {
      "text/plain": [
       "array([[ 1.  ],\n",
       "       [ 0.  ],\n",
       "       [ 0.  ],\n",
       "       [ 0.5 ],\n",
       "       [ 0.75],\n",
       "       [-1.  ],\n",
       "       [ 0.  ],\n",
       "       [ 1.  ]])"
      ]
     },
     "execution_count": 137,
     "metadata": {},
     "output_type": "execute_result"
    }
   ],
   "source": [
    "observations"
   ]
  },
  {
   "cell_type": "code",
   "execution_count": 138,
   "id": "c011a15c",
   "metadata": {},
   "outputs": [],
   "source": [
    "input_train = ot.Sample(coordinates)\n",
    "output_train = ot.Sample(observations)"
   ]
  },
  {
   "cell_type": "code",
   "execution_count": 139,
   "id": "358e4665",
   "metadata": {},
   "outputs": [
    {
     "data": {
      "text/plain": [
       "8"
      ]
     },
     "execution_count": 139,
     "metadata": {},
     "output_type": "execute_result"
    }
   ],
   "source": [
    "len(observations)"
   ]
  },
  {
   "cell_type": "code",
   "execution_count": 140,
   "id": "5ad37192",
   "metadata": {},
   "outputs": [
    {
     "data": {
      "text/plain": [
       "8"
      ]
     },
     "execution_count": 140,
     "metadata": {},
     "output_type": "execute_result"
    }
   ],
   "source": [
    "len(coordinates)"
   ]
  },
  {
   "cell_type": "code",
   "execution_count": null,
   "id": "dac3a513",
   "metadata": {},
   "outputs": [],
   "source": []
  },
  {
   "cell_type": "code",
   "execution_count": 141,
   "id": "648428b9",
   "metadata": {},
   "outputs": [],
   "source": [
    "inputDimension = 2\n",
    "basis = ot.ConstantBasisFactory(inputDimension).build()\n",
    "covariance_kernel = ot.SquaredExponential([1.0]*inputDimension, [1.0])\n",
    "algo = ot.KrigingAlgorithm(input_train, output_train,\n",
    "                           covariance_kernel, basis)"
   ]
  },
  {
   "cell_type": "code",
   "execution_count": 142,
   "id": "bb2d4522",
   "metadata": {},
   "outputs": [],
   "source": [
    "# Fit\n",
    "algo.run()\n",
    "result = algo.getResult()\n",
    "krigingMetamodel = result.getMetaModel()"
   ]
  },
  {
   "cell_type": "code",
   "execution_count": 143,
   "id": "22cb5df4",
   "metadata": {},
   "outputs": [],
   "source": [
    "# Create the 2D domain\n",
    "myInterval = ot.Interval([0.0, 0.0], [1.0, 1.0])\n",
    "# Define the number of interval in each direction of the box\n",
    "nx = 20\n",
    "ny = 10\n",
    "myIndices = [nx - 1, ny - 1]\n",
    "myMesher = ot.IntervalMesher(myIndices)\n",
    "myMeshBox = myMesher.build(myInterval)"
   ]
  },
  {
   "cell_type": "code",
   "execution_count": 144,
   "id": "ec3bdb2b",
   "metadata": {},
   "outputs": [],
   "source": [
    "# Create the 2D domain\n",
    "myInterval = ot.Interval([0.0, 0.0], [1.0, 1.0])\n",
    "# Define the number of interval in each direction of the box\n",
    "nx = 20\n",
    "ny = 10\n",
    "myIndices = [nx - 1, ny - 1]\n",
    "myMesher = ot.IntervalMesher(myIndices)\n",
    "myMeshBox = myMesher.build(myInterval)"
   ]
  },
  {
   "cell_type": "code",
   "execution_count": 145,
   "id": "ef5641ef",
   "metadata": {},
   "outputs": [],
   "source": [
    "# Predict\n",
    "vertices = myMeshBox.getVertices()\n",
    "predictions = krigingMetamodel(vertices)"
   ]
  },
  {
   "cell_type": "code",
   "execution_count": 146,
   "id": "f398763b",
   "metadata": {},
   "outputs": [],
   "source": [
    "# Format for plot\n",
    "X = np.array(vertices[:, 0]).reshape((ny, nx))\n",
    "Y = np.array(vertices[:, 1]).reshape((ny, nx))\n",
    "predictions_array = np.array(predictions).reshape((ny,nx))"
   ]
  },
  {
   "cell_type": "code",
   "execution_count": 147,
   "id": "1e67c7bd",
   "metadata": {},
   "outputs": [
    {
     "data": {
      "image/png": "[encoded data removed]",
      "text/plain": [
       "<Figure size 432x288 with 2 Axes>"
      ]
     },
     "metadata": {
      "needs_background": "light"
     },
     "output_type": "display_data"
    }
   ],
   "source": [
    "# Plot\n",
    "import matplotlib.pyplot as plt\n",
    "fig = plt.figure()\n",
    "plt.pcolor(X, Y, predictions_array)\n",
    "plt.colorbar()\n",
    "plt.show()"
   ]
  },
  {
   "cell_type": "code",
   "execution_count": 148,
   "id": "c2597cc3",
   "metadata": {},
   "outputs": [
    {
     "data": {
      "text/plain": [
       "array([[ 1.        ,  0.94822935,  0.88929383,  0.82576521,  0.76054218,\n",
       "         0.69668068,  0.63720593,  0.58492035,  0.54222298,  0.51095483,\n",
       "         0.49228313,  0.4866337 ,  0.49367678,  0.51236668,  0.54103112,\n",
       "         0.57750176,  0.61927419,  0.6636836 ,  0.70808153,  0.75      ],\n",
       "       [ 0.85720563,  0.80166107,  0.7403624 ,  0.67596755,  0.61142405,\n",
       "         0.54979715,  0.49408079,  0.44700607,  0.41086244,  0.38734625,\n",
       "         0.37744953,  0.38139798,  0.39864348,  0.4279112 ,  0.46729691,\n",
       "         0.51440561,  0.56651938,  0.62078032,  0.67437351,  0.72469604],\n",
       "       [ 0.66040236,  0.60453497,  0.54515869,  0.48487746,  0.42651634,\n",
       "         0.3729565 ,  0.32695604,  0.29097034,  0.26698635,  0.25638467,\n",
       "         0.25984122,  0.27727716,  0.30786154,  0.35006654,  0.40177067,\n",
       "         0.46040117,  0.52310351,  0.58692413,  0.64899164,  0.70668289],\n",
       "       [ 0.41773044,  0.36567309,  0.313155  ,  0.26257008,  0.2164337 ,\n",
       "         0.17723456,  0.14727678,  0.12852423,  0.12245983,  0.12997185,\n",
       "         0.15127743,  0.18589069,  0.23263887,  0.28972619,  0.35484047,\n",
       "         0.4252943 ,  0.49818929,  0.57059042,  0.63969681,  0.70299612],\n",
       "       [ 0.14332079,  0.0994201 ,  0.05877475,  0.02341359, -0.00463984,\n",
       "        -0.02348906, -0.03149049, -0.02737361, -0.01034555,  0.0198294 ,\n",
       "         0.06278337,  0.11753674,  0.18253085,  0.25570031,  0.3345804 ,\n",
       "         0.41644188,  0.49844305,  0.57778766,  0.65187652,  0.718442  ],\n",
       "       [-0.1438719 , -0.17562301, -0.19997013, -0.21538437, -0.22048823,\n",
       "        -0.214143  , -0.19553352, -0.16424359, -0.12031545, -0.06428707,\n",
       "         0.0027976 ,  0.07940861,  0.16358107,  0.25299542,  0.34508284,\n",
       "         0.43714891,  0.5265073 ,  0.61061402,  0.68719257,  0.75434108],\n",
       "       [-0.4221086 , -0.43863685, -0.44349394, -0.435748  , -0.41477284,\n",
       "        -0.38029572, -0.33243508, -0.27172535, -0.19912568, -0.11601037,\n",
       "        -0.02413926,  0.0743924 ,  0.17722391,  0.28181626,  0.38555281,\n",
       "         0.48584798,  0.58025771,  0.66658474,  0.7429717 ,  0.807976  ],\n",
       "       [-0.66950215, -0.6691084 , -0.65301238, -0.62092534, -0.57301379,\n",
       "        -0.50990557, -0.43267877, -0.34283412, -0.24225173, -0.13313385,\n",
       "        -0.01793518,  0.10071705,  0.22011068,  0.33754099,  0.45040437,\n",
       "         0.55628932,  0.65306075,  0.73893334,  0.81252981,  0.87292095],\n",
       "       [-0.8668256 , -0.84943562, -0.81289524, -0.75754783, -0.68432399,\n",
       "        -0.5947074 , -0.49067723, -0.37463087, -0.24929199, -0.11760887,\n",
       "         0.01735212,  0.15251302,  0.28488702,  0.41167362,  0.53034356,\n",
       "         0.63871089,  0.73499038,  0.81783855,  0.88637739,  0.94019994],\n",
       "       [-1.        , -0.96716134, -0.91259654, -0.83721554, -0.74261857,\n",
       "        -0.63102676, -0.50518407, -0.36823748, -0.22360355, -0.07482936,\n",
       "         0.07454427,  0.22111071,  0.36171111,  0.49352992,  0.61416975,\n",
       "         0.72170481,  0.81471264,  0.8922853 ,  0.95402125,  1.        ]])"
      ]
     },
     "execution_count": 148,
     "metadata": {},
     "output_type": "execute_result"
    }
   ],
   "source": [
    "predictions_array"
   ]
  },
  {
   "cell_type": "code",
   "execution_count": null,
   "id": "6b48ce60",
   "metadata": {},
   "outputs": [],
   "source": []
  }
 ],
 "metadata": {
  "hide_input": false,
  "kernelspec": {
   "display_name": "Python 3 (ipykernel)",
   "language": "python",
   "name": "python3"
  },
  "language_info": {
   "codemirror_mode": {
    "name": "ipython",
    "version": 3
   },
   "file_extension": ".py",
   "mimetype": "text/x-python",
   "name": "python",
   "nbconvert_exporter": "python",
   "pygments_lexer": "ipython3",
   "version": "3.10.4"
  },
  "toc": {
   "base_numbering": 1,
   "nav_menu": {},
   "number_sections": true,
   "sideBar": true,
   "skip_h1_title": false,
   "title_cell": "Table of Contents",
   "title_sidebar": "Contents",
   "toc_cell": false,
   "toc_position": {},
   "toc_section_display": true,
   "toc_window_display": false
  }
 },
 "nbformat": 4,
 "nbformat_minor": 5
}
